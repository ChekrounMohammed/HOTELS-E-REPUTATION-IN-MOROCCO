{
 "cells": [
  {
   "cell_type": "code",
   "execution_count": null,
   "id": "95406621",
   "metadata": {},
   "outputs": [],
   "source": [
    "import requests\n",
    "from bs4 import BeautifulSoup as soup"
   ]
  },
  {
   "cell_type": "code",
   "execution_count": null,
   "id": "3b0cf08c",
   "metadata": {},
   "outputs": [],
   "source": [
    "import csv\n",
    "import os"
   ]
  },
  {
   "cell_type": "code",
   "execution_count": null,
   "id": "b1eb071c",
   "metadata": {},
   "outputs": [],
   "source": [
    "os.getcwd()\n",
    "os.chdir(\"TripAdvReviews\")"
   ]
  },
  {
   "cell_type": "code",
   "execution_count": null,
   "id": "f6a2c806",
   "metadata": {},
   "outputs": [],
   "source": [
    "os.getcwd()"
   ]
  },
  {
   "cell_type": "code",
   "execution_count": null,
   "id": "6b77fb51",
   "metadata": {},
   "outputs": [],
   "source": [
    "headers = {'User-Agent': 'Mozilla/5.0 (Windows NT 10.0; Win64; x64) AppleWebKit/537.36 (KHTML, like Gecko) Chrome/96.0.4664.45 Safari/537.36 OPR/82.0.4227.23'}"
   ]
  },
  {
   "cell_type": "code",
   "execution_count": null,
   "id": "5473353c",
   "metadata": {},
   "outputs": [],
   "source": [
    "rootUrl = 'https://www.tripadvisor.com/Hotels-g293734-oa120-Marrakech_Marrakech_Safi-Hotels.html'\n",
    "html = requests.get(rootUrl, headers = headers)\n",
    "html.status_code"
   ]
  },
  {
   "cell_type": "code",
   "execution_count": null,
   "id": "d0d8016a",
   "metadata": {},
   "outputs": [],
   "source": [
    "bsobj = soup(html.content,'lxml')"
   ]
  },
  {
   "cell_type": "markdown",
   "id": "4da7659d",
   "metadata": {},
   "source": [
    "# get links to reviews"
   ]
  },
  {
   "cell_type": "code",
   "execution_count": null,
   "id": "259dc662",
   "metadata": {},
   "outputs": [],
   "source": [
    "links = []\n",
    "for review in bsobj.findAll('a', {'class' : 'review_count'}):\n",
    "    a = review['href']\n",
    "    a = \"https://www.tripadvisor.com\" + a \n",
    "    print(a)\n",
    "    print(a.find(\"Reviews\"))\n",
    "    a = a[:(a.find(\"Reviews\")+7)] + '-or{}' + a[(a.find(\"Reviews\")+7):]\n",
    "    print(a)\n",
    "    links.append(a)\n",
    "    \n",
    "links"
   ]
  },
  {
   "cell_type": "code",
   "execution_count": null,
   "id": "b74b14d8",
   "metadata": {},
   "outputs": [],
   "source": [
    "len(links)"
   ]
  },
  {
   "cell_type": "markdown",
   "id": "eb53a488",
   "metadata": {},
   "source": [
    "# function to get number of review per hotel"
   ]
  },
  {
   "cell_type": "code",
   "execution_count": null,
   "id": "dd4a157a",
   "metadata": {},
   "outputs": [],
   "source": [
    "def reviewsNumber(target_link):\n",
    "    html0 = requests.get(target_link.format(5), headers = headers)\n",
    "    sleep(randint(1,5))\n",
    "    bsobj0 = soup(html0.content, 'lxml')\n",
    "    listLang = []\n",
    "    nbReview = bsobj0.findAll('span', {'class': 'fwSIg'})\n",
    "    for nbr in nbReview:\n",
    "        listLang.append(nbr.text)\n",
    "    #get index of English\n",
    "    ind = listLang.index('English')\n",
    "    #get reviews number\n",
    "    nbReviews = bsobj0.findAll('span', {'class': 'cvxmR'})\n",
    "    #substring\n",
    "    nbr = nbReviews[ind].text[1:]\n",
    "    nbr = nbr[:-1]\n",
    "    nbr  =nbr.replace(',','')\n",
    "    nbr = int(nbr)\n",
    "    return nbr"
   ]
  },
  {
   "cell_type": "markdown",
   "id": "6e5804ae",
   "metadata": {},
   "source": [
    "# get reviews"
   ]
  },
  {
   "cell_type": "code",
   "execution_count": null,
   "id": "8cc77589",
   "metadata": {
    "scrolled": true
   },
   "outputs": [],
   "source": [
    "from random import randint\n",
    "from time import sleep\n",
    "from requests.exceptions import ConnectionError\n",
    "\n",
    "#open csv file \n",
    "file = open('ReviewsMarrakech.csv', 'w', encoding='UTF-8')\n",
    "writer = csv.writer(file)\n",
    "#set file header\n",
    "header = [\"hotel_name\", \"city\", \"rate\", \"review\",\"reviewer_name\" ,\"reviewer_country\", \"stay_date\"]\n",
    "writer.writerow(header)\n",
    "\n",
    "for link in links:\n",
    "    print(link)\n",
    "    maxReviews = reviewsNumber(link)\n",
    "    d = [j for j in range(5,maxReviews,5)]\n",
    "\n",
    "    #fill csv file\n",
    "    for i in d:\n",
    "        #catch connectionExcpetion\n",
    "        try:\n",
    "            html2 = requests.get(link.format(i), headers = headers)\n",
    "        except ConnectionError as e:\n",
    "            continue\n",
    "        \n",
    "        sleep(randint(1,5))\n",
    "        \n",
    "        bsobj2 = soup(html2.content, 'lxml')\n",
    "        #find hotel name\n",
    "        hotel_name = bsobj2.find('h1', {'id':'HEADING'})\n",
    "        if hotel_name:\n",
    "            hotel_name = hotel_name.text\n",
    "        else:\n",
    "            hotel_name = bsobj2.find('h1').text            \n",
    "        #find hotel city\n",
    "        H_city = bsobj2.findAll('li', {'class', 'breadcrumb'})[3].span.text\n",
    "        #find reviews\n",
    "        for r in bsobj2.findAll('div', {'class' : 'cWwQK'}):\n",
    "            #user\n",
    "            user = r.find('a',{'class','ui_header_link'}).text\n",
    "            #user origin\n",
    "            user_country = r.find('span',{'class','ShLyt'})\n",
    "            if user_country:\n",
    "                user_country = user_country.text.strip()\n",
    "                if user_country.find(',') != -1:\n",
    "                    user_country = user_country[user_country.find(',')+2:]\n",
    "            else:\n",
    "                user_country = ''\n",
    "            #rate\n",
    "            rate = r.find('span', {'class': 'ui_bubble_rating'})\n",
    "            if rate:\n",
    "                rate = float(rate['class'][1][7:])/10\n",
    "            else:\n",
    "                rate = -1\n",
    "            #review\n",
    "            rev = r.find('q').span.text.strip()\n",
    "            #date of stay\n",
    "            stay_date = r.find('span', {'class','euPKI'})\n",
    "            if stay_date:\n",
    "\n",
    "                stay_date = r.find('span', {'class','euPKI'}).text\n",
    "                stay_date = stay_date[14:]\n",
    "            else:\n",
    "                stay_date = ''\n",
    "\n",
    "            row = [ hotel_name,H_city,rate, rev, user, user_country, stay_date ]\n",
    "            #print(row)\n",
    "            writer.writerow(row)\n",
    "file.close()"
   ]
  }
 ],
 "metadata": {
  "kernelspec": {
   "display_name": "Python 3 (ipykernel)",
   "language": "python",
   "name": "python3"
  },
  "language_info": {
   "codemirror_mode": {
    "name": "ipython",
    "version": 3
   },
   "file_extension": ".py",
   "mimetype": "text/x-python",
   "name": "python",
   "nbconvert_exporter": "python",
   "pygments_lexer": "ipython3",
   "version": "3.8.12"
  }
 },
 "nbformat": 4,
 "nbformat_minor": 5
}
