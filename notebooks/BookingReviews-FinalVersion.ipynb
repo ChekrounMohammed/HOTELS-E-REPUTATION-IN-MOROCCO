{
 "cells": [
  {
   "cell_type": "code",
   "execution_count": 1,
   "id": "20e6c95f",
   "metadata": {},
   "outputs": [],
   "source": [
    "from random import randint\n",
    "from time import sleep\n",
    "import pandas as pd\n",
    "import csv\n",
    "from textblob import TextBlob  \n",
    "import requests\n",
    "from bs4 import BeautifulSoup as soup \n",
    "from selenium import webdriver"
   ]
  },
  {
   "cell_type": "markdown",
   "id": "7133ddd7",
   "metadata": {},
   "source": [
    "# getting links"
   ]
  },
  {
   "cell_type": "code",
   "execution_count": 1,
   "id": "e9e809cd",
   "metadata": {},
   "outputs": [],
   "source": [
    "def get_link(url):\n",
    "    try:\n",
    "        driver = webdriver.Firefox()\n",
    "        driver.get(url)\n",
    "        select = driver.find_element_by_id(\"language\")\n",
    "        select.click()\n",
    "        select.find_element_by_xpath(\"//option[@value='all']\").click()\n",
    "        driver.find_element_by_xpath(\"//input[@value='Submit' or @type='Submit']\").click()\n",
    "        link = driver.current_url\n",
    "        driver.quit()\n",
    "    except:\n",
    "        driver.quit()\n",
    "    return(link)"
   ]
  },
  {
   "cell_type": "code",
   "execution_count": 4,
   "id": "d79de1eb",
   "metadata": {},
   "outputs": [
    {
     "data": {
      "text/plain": [
       "200"
      ]
     },
     "execution_count": 4,
     "metadata": {},
     "output_type": "execute_result"
    }
   ],
   "source": [
    "html =requests.get('https://www.booking.com/reviews/ma/city/marrakech.en-gb.html?aid=356980;label=gog235jc-1DCCoojAE4mANIM1gDaIwBiAEBmAEJuAEXyAEP2AED6AEB-AEDiAIBqAIDuAKw8MKNBsACAdICJGEwNjg1ZjE4LTVkZGEtNDRmZC04MzhlLWNhZTk1ZmJkOWMzNtgCBOACAQ;sid=30f3f38f6591fa674ec593b0aba5b7b5;keep_landing=1&offset=390&')\n",
    "html.status_code"
   ]
  },
  {
   "cell_type": "code",
   "execution_count": 5,
   "id": "36b6bf49",
   "metadata": {},
   "outputs": [],
   "source": [
    "bsobj = soup(html.content,'lxml')\n"
   ]
  },
  {
   "cell_type": "code",
   "execution_count": null,
   "id": "ef595ea6",
   "metadata": {},
   "outputs": [],
   "source": [
    "filelinks.close()"
   ]
  },
  {
   "cell_type": "markdown",
   "id": "da9ccceb",
   "metadata": {},
   "source": [
    "# Saving Links"
   ]
  },
  {
   "cell_type": "code",
   "execution_count": null,
   "id": "4a2f9eca",
   "metadata": {},
   "outputs": [],
   "source": [
    "import csv\n",
    "filelinks=open('linksMarrakech.csv','w',encoding='utf-8')\n",
    "writer=csv.writer(filelinks)\n",
    "writer.writerow(['links'])\n",
    "\n",
    "\n",
    "for review in bsobj.findAll('li',{'class':'rlp-main-hotel-review__review_link'}):\n",
    "    links = []\n",
    "    a = review.a['href']\n",
    "    a = 'https://www.booking.com'+ a\n",
    "    a= get_link(a)\n",
    "    links.append(a)\n",
    "    writer.writerow(links)\n",
    "while(bsobj.find('a',{'class':'rlp-main-pagination__btn-txt--next'})):\n",
    "    next_lk=bsobj.find('a',{'class':'rlp-main-pagination__btn-txt--next'})['href']\n",
    "    next_lk='https://www.booking.com'+next_lk\n",
    "    html =requests.get(next_lk)\n",
    "    bsobj = soup(html.content,'lxml')\n",
    "    for review in bsobj.findAll('li',{'class':'rlp-main-hotel-review__review_link'}):\n",
    "        links = []\n",
    "        a = review.a['href']\n",
    "        a = 'https://www.booking.com'+ a\n",
    "        a= get_link(a)\n",
    "        links.append(a)\n",
    "        writer.writerow(links)\n",
    "\n",
    "filelinks.close()"
   ]
  },
  {
   "cell_type": "code",
   "execution_count": 4,
   "id": "d5895218",
   "metadata": {},
   "outputs": [],
   "source": [
    "def writeReview(date,ville,name_hotel,rev,typerev,rate,username,usercountry):\n",
    "    rev =(' '.join(rev.splitlines()))\n",
    "    rev=rev.replace('.',' ')\n",
    "    tx=TextBlob(rev)\n",
    "    sleep(randint(1,2))\n",
    "    if(tx.detect_language() != 'en'):\n",
    "        tr = tx.translate(to = 'en')\n",
    "        rev=str(tr)\n",
    "    row = [ name_hotel ,ville, rev,typerev, date, rate, username, usercountry]\n",
    "    writer.writerow(row)\n"
   ]
  },
  {
   "cell_type": "code",
   "execution_count": 5,
   "id": "8e37b937",
   "metadata": {},
   "outputs": [
    {
     "name": "stdout",
     "output_type": "stream",
     "text": [
      "True\n"
     ]
    }
   ],
   "source": [
    "def check_internet():\n",
    "    try:\n",
    "        requests.get('https://google.com').ok\n",
    "        return True\n",
    "    except :\n",
    "        return False\n",
    "print(check_internet())"
   ]
  },
  {
   "cell_type": "markdown",
   "id": "1f13c079",
   "metadata": {},
   "source": [
    "# Saving Reviews"
   ]
  },
  {
   "cell_type": "code",
   "execution_count": null,
   "id": "e5737e0e",
   "metadata": {
    "scrolled": true
   },
   "outputs": [
    {
     "name": "stdout",
     "output_type": "stream",
     "text": [
      "Must provide a string with at least 3 characters. ('Must provide a string with at least 3 characters.',)\n",
      "Must provide a string with at least 3 characters. ('Must provide a string with at least 3 characters.',)\n",
      "'NoneType' object has no attribute 'text' (\"'NoneType' object has no attribute 'text'\",)\n",
      "HTTP Error 400: Bad Request\n",
      "'NoneType' object has no attribute 'text'\n",
      "Translation API returned the input string unchanged.\n",
      "Must provide a string with at least 3 characters. ('Must provide a string with at least 3 characters.',)\n",
      "Translation API returned the input string unchanged. ('Translation API returned the input string unchanged.',)\n",
      "<urlopen error [WinError 10060] Une tentative de connexion a échoué car le parti connecté n’a pas répondu convenablement au-delà d’une certaine durée ou une connexion établie a échoué car l’hôte de connexion n’a pas répondu>\n",
      "<urlopen error [Errno 11001] getaddrinfo failed> (gaierror(11001, 'getaddrinfo failed'),)\n",
      "HTTP Error 400: Bad Request ()\n",
      "Must provide a string with at least 3 characters.\n",
      "Must provide a string with at least 3 characters.\n",
      "Must provide a string with at least 3 characters.\n",
      "Translation API returned the input string unchanged. ('Translation API returned the input string unchanged.',)\n",
      "'NoneType' object has no attribute 'text' (\"'NoneType' object has no attribute 'text'\",)\n",
      "Translation API returned the input string unchanged.\n",
      "Must provide a string with at least 3 characters. ('Must provide a string with at least 3 characters.',)\n",
      "HTTP Error 400: Bad Request ()\n",
      "Must provide a string with at least 3 characters. ('Must provide a string with at least 3 characters.',)\n",
      "Translation API returned the input string unchanged.\n",
      "HTTP Error 400: Bad Request ()\n",
      "Must provide a string with at least 3 characters.\n",
      "Must provide a string with at least 3 characters.\n",
      "'NoneType' object has no attribute 'text' (\"'NoneType' object has no attribute 'text'\",)\n",
      "'NoneType' object has no attribute 'text' (\"'NoneType' object has no attribute 'text'\",)\n",
      "Must provide a string with at least 3 characters. ('Must provide a string with at least 3 characters.',)\n",
      "'NoneType' object has no attribute 'text'\n",
      "HTTP Error 400: Bad Request ()\n",
      "Must provide a string with at least 3 characters.\n",
      "'NoneType' object has no attribute 'text'\n"
     ]
    }
   ],
   "source": [
    "hotels = []\n",
    "ville='Agadir'\n",
    "#open csv file \n",
    "file = open('BookingReviewsAgadirV1.csv', 'w', encoding='UTF-8')\n",
    "writer = csv.writer(file)\n",
    "#set file header\n",
    "header = [\"hotel_name\",\"ville\", \"review\",\"type_rev\",\"stay_date\",\"reviewer_rate\",\"reviewer_name\",\"reviewer_country\"]\n",
    "writer.writerow(header)\n",
    "links=pd.read_csv('linksAgadir.csv',encoding='utf-8')['links']\n",
    "for link in links:\n",
    "    try:\n",
    "        link=link.strip()\n",
    "        headers = {'User-Agent':'Mozilla/5.0 '}\n",
    "        html2 = requests.get(link.format(i for i in range(5,25,5)),headers=headers)\n",
    "        sleep(randint(1,5))\n",
    "        bsobj2 = soup(html2.content,'lxml')\n",
    "        name_hotel=bsobj2.find('a',{'class':'standalone_header_hotel_link'}).text\n",
    "        if name_hotel not in hotels:\n",
    "            hotels.append(name_hotel)\n",
    "        for r in bsobj2.findAll('li',{'class':'review_item clearfix'}):\n",
    "            try:\n",
    "                rate=r.find('span',{'class':'review-score-badge'}).text.strip()\n",
    "                username=r.find('p',{'class':'reviewer_name'}).span.text.strip()\n",
    "                usercountry=r.find('span',{'itemprop':'nationality'}).span.text.strip()\n",
    "                revpos = r.find('p', {'class' : 'review_pos'})\n",
    "                revneg = r.find('p', {'class' : 'review_neg'})\n",
    "                date = r.find('p', {'class':'review_staydate'}).text.strip()\n",
    "                date = date[10:]\n",
    "                if revpos:\n",
    "                    rev = revpos.span.text.strip() \n",
    "                    writeReview(date,ville,name_hotel,rev,\"pos\",rate,username,usercountry)\n",
    "                if revneg:\n",
    "                    rev = revneg.span.text.strip()\n",
    "                    writeReview(date,ville,name_hotel,rev,\"neg\",rate,username,usercountry)\n",
    "            except Exception as e:\n",
    "                print(e,e.args)\n",
    "                while(not check_internet()):\n",
    "                    sleep(20)\n",
    "                continue\n",
    "        next_page=bsobj2.find('p',{'class':'page_link review_next_page'})\n",
    "        while(next_page.find('a',{'id':'review_next_page_link'})):\n",
    "            try:\n",
    "                link_next=next_page.a['href']\n",
    "                link_next='https://www.booking.com'+ link_next\n",
    "                link_next=link_next.strip()\n",
    "                html2 = requests.get(link_next.format(i for i in range(5,25,5)),headers=headers)\n",
    "                sleep(1)\n",
    "                bsobj2 = soup(html2.content,'lxml')\n",
    "                name_hotel=bsobj2.find('a',{'class':'standalone_header_hotel_link'}).text\n",
    "                if name_hotel not in hotels:\n",
    "                    hotels.append(name_hotel)\n",
    "                for r in bsobj2.findAll('li',{'class':'review_item clearfix'}):\n",
    "                    try:\n",
    "                        rate=r.find('span',{'class':'review-score-badge'}).text.strip()\n",
    "                        username=r.find('p',{'class':'reviewer_name'}).span.text.strip()\n",
    "                        usercountry=r.find('span',{'itemprop':'nationality'}).span.text.strip()\n",
    "                        revpos = r.find('p', {'class' : 'review_pos'})\n",
    "                        revneg = r.find('p', {'class' : 'review_neg'})\n",
    "                        date = r.find('p', {'class':'review_staydate'}).text.strip()\n",
    "                        date = date[10:]\n",
    "                        if revpos:\n",
    "                            rev = revpos.span.text.strip() \n",
    "                            writeReview(date,ville,name_hotel,rev,\"pos\",rate,username,usercountry)\n",
    "                        if revneg:\n",
    "                            rev = revneg.span.text.strip()\n",
    "                            writeReview(date,ville,name_hotel,rev,\"neg\",rate,username,usercountry)\n",
    "                    except Exception as e:\n",
    "                        print(e)\n",
    "                        while(not check_internet()):\n",
    "                            sleep(20)\n",
    "                        continue\n",
    "                next_page=bsobj2.find('p',{'class':'page_link review_next_page'})\n",
    "            except Exception as e:\n",
    "                print(e)\n",
    "                while(not check_internet()):\n",
    "                    sleep(20)\n",
    "                continue \n",
    "    except Exception as e:\n",
    "        print(e)\n",
    "        while(not check_internet()):\n",
    "            sleep(20)\n",
    "        continue\n",
    "file.close()"
   ]
  },
  {
   "cell_type": "code",
   "execution_count": 1,
   "id": "cdf63e76",
   "metadata": {},
   "outputs": [],
   "source": [
    "import pandas as pd\n",
    "df=pd.DataFrame(data=hotels,columns=[\"hotels\"])\n",
    "df.to_csv('hotelsV3.csv',encoding='UTF-8')"
   ]
  }
 ],
 "metadata": {
  "kernelspec": {
   "display_name": "Python 3 (ipykernel)",
   "language": "python",
   "name": "python3"
  },
  "language_info": {
   "codemirror_mode": {
    "name": "ipython",
    "version": 3
   },
   "file_extension": ".py",
   "mimetype": "text/x-python",
   "name": "python",
   "nbconvert_exporter": "python",
   "pygments_lexer": "ipython3",
   "version": "3.10.0"
  }
 },
 "nbformat": 4,
 "nbformat_minor": 5
}
