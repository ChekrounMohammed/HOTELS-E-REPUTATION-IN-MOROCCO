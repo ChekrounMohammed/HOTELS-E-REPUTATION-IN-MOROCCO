{
 "cells": [
  {
   "cell_type": "code",
   "execution_count": null,
   "id": "e9857a9d",
   "metadata": {},
   "outputs": [],
   "source": [
    "import pandas as pd\n",
    "from math import *\n",
    "import numpy as np"
   ]
  },
  {
   "cell_type": "markdown",
   "id": "ff46f07d",
   "metadata": {},
   "source": [
    "# sentiment analysis"
   ]
  },
  {
   "cell_type": "code",
   "execution_count": null,
   "id": "fc8b4018",
   "metadata": {},
   "outputs": [],
   "source": [
    "from textblob import Blobber\n",
    "#a library that support french language \n",
    "from textblob_fr import PatternTagger, PatternAnalyzer\n",
    "\n",
    "def sentiment(rev):\n",
    "    blob = TextBlob(rev)\n",
    "    #print(blob.sentiment)\n",
    "    if blob.sentiment.polarity > 0:\n",
    "        sent = \"pos\"\n",
    "    else:\n",
    "        sent = \"neg\"\n",
    "    return sent\n",
    "# for french reviews \n",
    "def sentiment_FR(rev):\n",
    "    tb = Blobber(pos_tagger=PatternTagger(), analyzer=PatternAnalyzer())\n",
    "    blob = tb(rev)\n",
    "    if blob.sentiment[0] > 0:\n",
    "        sent = \"pos\"\n",
    "    else:\n",
    "        sent = \"neg\"\n",
    "    return sent"
   ]
  },
  {
   "cell_type": "markdown",
   "id": "fdc0c929",
   "metadata": {},
   "source": [
    "# find country"
   ]
  },
  {
   "cell_type": "code",
   "execution_count": null,
   "id": "0d79f283",
   "metadata": {},
   "outputs": [],
   "source": [
    "from geopy.geocoders import Nominatim\n",
    "\n",
    "def findCountry(pos):\n",
    "    # Initialize Nominatim API\n",
    "    print(pos)\n",
    "    geolocator = Nominatim(user_agent=\"MyApp\")\n",
    "    try:\n",
    "        location = geolocator.geocode(pos,timeout=10000)\n",
    "        lat = location.latitude\n",
    "        lon = location.longitude\n",
    "        loc = geolocator.reverse(str(lat)+','+str(lon))\n",
    "        adr = loc.raw['address']\n",
    "        country = adr.get('country')\n",
    "        if country.find('/') != -1:\n",
    "            country = country[0:country.index('/')]\n",
    "        country = TextBlob(country)\n",
    "        try:\n",
    "            country = country.translate(to='en')\n",
    "            country = str(country).rstrip()\n",
    "        except Exception:\n",
    "            country = str(country).rstrip()\n",
    "    except AttributeError:\n",
    "        return \"ALL\"\n",
    "    return country"
   ]
  },
  {
   "cell_type": "code",
   "execution_count": null,
   "id": "f99de3d6",
   "metadata": {},
   "outputs": [],
   "source": [
    "dataFr = pd.read_csv(\"finalDataFR.csv\", header=0)\n",
    "dataEn = pd.read_csv(\"finalData.csv\", header=0)"
   ]
  },
  {
   "cell_type": "markdown",
   "id": "29102ef5",
   "metadata": {},
   "source": [
    "# Reviews classification "
   ]
  },
  {
   "cell_type": "code",
   "execution_count": null,
   "id": "f15953a6",
   "metadata": {},
   "outputs": [],
   "source": [
    "#sentiment analysis for frensh reviews\n",
    "\n",
    "# =======following commands are commented ; the task already done========\n",
    "\n",
    "# dataFr['type_rev'] = dataFr['review'].apply(lambda x : sentiment_FR(x))\n",
    "# dataEn['type_rev'] = dataEn['review'].apply(lambda x : sentiment(x))\n"
   ]
  },
  {
   "cell_type": "markdown",
   "id": "c7c89b39",
   "metadata": {},
   "source": [
    "# booking reviews"
   ]
  },
  {
   "cell_type": "code",
   "execution_count": null,
   "id": "5b17ecd1",
   "metadata": {},
   "outputs": [],
   "source": [
    "bookingData = pd.read_csv(\"../final/bookingRevs.csv\", sep=\";\", header = 0)"
   ]
  },
  {
   "cell_type": "code",
   "execution_count": null,
   "id": "5c951b5b",
   "metadata": {},
   "outputs": [],
   "source": [
    "bookingData"
   ]
  },
  {
   "cell_type": "code",
   "execution_count": null,
   "id": "5a8ffeed",
   "metadata": {},
   "outputs": [],
   "source": [
    "bookingData.rename(columns={\"ville\":\"city\"}, inplace=True)\n",
    "bookingData.rename(columns={\"reviewer_rate\":\"rate\"}, inplace=True)"
   ]
  },
  {
   "cell_type": "markdown",
   "id": "57dc14e8",
   "metadata": {},
   "source": [
    "## rescale booking review"
   ]
  },
  {
   "cell_type": "code",
   "execution_count": null,
   "id": "fa640c13",
   "metadata": {},
   "outputs": [],
   "source": [
    "#initial values are scaled on 10 , we want to rescale them to 5\n",
    "bookingData.rate = bookingData.rate.apply(lambda x : floor(round(x/2)))\n",
    "bookingData.rate = bookingData.rate.apply(lambda x : 1 if (x == 0) else x )"
   ]
  },
  {
   "cell_type": "markdown",
   "id": "2d883f62",
   "metadata": {},
   "source": [
    "# Merging dataFrames"
   ]
  },
  {
   "cell_type": "code",
   "execution_count": null,
   "id": "b619c094",
   "metadata": {},
   "outputs": [],
   "source": [
    "bookingData"
   ]
  },
  {
   "cell_type": "code",
   "execution_count": null,
   "id": "259ef681",
   "metadata": {},
   "outputs": [],
   "source": [
    "dataEn"
   ]
  },
  {
   "cell_type": "code",
   "execution_count": null,
   "id": "78daf732",
   "metadata": {},
   "outputs": [],
   "source": [
    "bookingData = bookingData[['hotel_name', 'city','rate', 'review','reviewer_name','reviewer_country','stay_date','type_rev']]"
   ]
  },
  {
   "cell_type": "code",
   "execution_count": null,
   "id": "42d3fa26",
   "metadata": {},
   "outputs": [],
   "source": [
    "bookingData"
   ]
  },
  {
   "cell_type": "code",
   "execution_count": null,
   "id": "53861516",
   "metadata": {},
   "outputs": [],
   "source": [
    "df = dataEn.append(dataFr.append(bookingData, ignore_index=True), ignore_index=True)"
   ]
  },
  {
   "cell_type": "markdown",
   "id": "eec2197d",
   "metadata": {},
   "source": [
    "# find country"
   ]
  },
  {
   "cell_type": "markdown",
   "id": "4345ed96",
   "metadata": {},
   "source": [
    "to avoid blocking while using geopy, we try to minimize the request number, so that we use a list with unique countries found"
   ]
  },
  {
   "cell_type": "code",
   "execution_count": null,
   "id": "a07a9346",
   "metadata": {},
   "outputs": [],
   "source": [
    "#==============commands below are already executed\n",
    "#=================================================\n",
    "#temp = df['reviewer_country'].unique()\n",
    "#Cnt = []\n",
    "#for c in temp:\n",
    "#    Cnt.append(findCountry(c))\n",
    "#df['reviewer_country'] = df['reviewer_country'].apply(lambda x: \"ALL\" if pd.isna(x) else Cnt[int(np.where(temp==x)[0])] )"
   ]
  },
  {
   "cell_type": "code",
   "execution_count": null,
   "id": "01f88a2d",
   "metadata": {},
   "outputs": [],
   "source": [
    "df"
   ]
  },
  {
   "cell_type": "markdown",
   "id": "fef92b1e",
   "metadata": {},
   "source": [
    "# Transform"
   ]
  },
  {
   "cell_type": "markdown",
   "id": "8543e906",
   "metadata": {},
   "source": [
    "## unify city and hotel names"
   ]
  },
  {
   "cell_type": "code",
   "execution_count": null,
   "id": "18e951b3",
   "metadata": {},
   "outputs": [],
   "source": [
    "df.city.unique()"
   ]
  },
  {
   "cell_type": "code",
   "execution_count": null,
   "id": "1c06d121",
   "metadata": {},
   "outputs": [],
   "source": [
    "df['city'] = df['city'].apply(lambda x : \"Tangier\" if x == \"Tanger (Tanja)\" else x )"
   ]
  },
  {
   "cell_type": "code",
   "execution_count": null,
   "id": "cbb1b553",
   "metadata": {},
   "outputs": [],
   "source": [
    "hotel_corr = pd.read_csv('correspondance_Hotels.csv', sep=\",\", header = 0)"
   ]
  },
  {
   "cell_type": "code",
   "execution_count": null,
   "id": "5f427db4",
   "metadata": {},
   "outputs": [],
   "source": [
    "hotel_corr"
   ]
  },
  {
   "cell_type": "code",
   "execution_count": null,
   "id": "aa4b7462",
   "metadata": {},
   "outputs": [],
   "source": [
    "df.hotel_name = df.hotel_name.str.strip()"
   ]
  },
  {
   "cell_type": "code",
   "execution_count": null,
   "id": "454c9a0e",
   "metadata": {},
   "outputs": [],
   "source": [
    "for i in range(hotel_corr.shape[0]):\n",
    "    df.hotel_name = df.hotel_name.str.replace(hotel_corr.hoteltrip[i],hotel_corr.hotelbook[i], regex=False)"
   ]
  },
  {
   "cell_type": "markdown",
   "id": "d267b263",
   "metadata": {},
   "source": [
    "# create dimension tables"
   ]
  },
  {
   "cell_type": "code",
   "execution_count": null,
   "id": "0f950196",
   "metadata": {},
   "outputs": [],
   "source": [
    "df.dropna(inplace=True)\n",
    "df.drop_duplicates(inplace=True)\n",
    "df"
   ]
  },
  {
   "cell_type": "markdown",
   "id": "bcfcf350",
   "metadata": {},
   "source": [
    "## dimension date"
   ]
  },
  {
   "cell_type": "code",
   "execution_count": null,
   "id": "d56effe5",
   "metadata": {},
   "outputs": [],
   "source": [
    "date = df.stay_date.unique()\n",
    "date = pd.DataFrame(date)\n",
    "date.reset_index(inplace=True)\n",
    "date.rename(columns={0 : 'stay_date', 'index' : 'id_date'}, inplace = True)\n",
    "date['month'] = date['stay_date'].apply(lambda x : str(x).split(\" \")[0])\n",
    "date['year'] = date['stay_date'].apply(lambda x : str(x).split(\" \")[1])\n",
    "date"
   ]
  },
  {
   "cell_type": "code",
   "execution_count": null,
   "id": "a53f7d9f",
   "metadata": {},
   "outputs": [],
   "source": [
    "#final dataframe\n",
    "dim_date = date"
   ]
  },
  {
   "cell_type": "markdown",
   "id": "6a6fac9c",
   "metadata": {},
   "source": [
    "## dimension hotel"
   ]
  },
  {
   "cell_type": "code",
   "execution_count": null,
   "id": "8dc12133",
   "metadata": {},
   "outputs": [],
   "source": [
    "hotel_info = pd.read_csv(\"hotel_info.csv\", sep=\";\", header = 0)"
   ]
  },
  {
   "cell_type": "code",
   "execution_count": null,
   "id": "15172460",
   "metadata": {},
   "outputs": [],
   "source": [
    "hotel_info"
   ]
  },
  {
   "cell_type": "code",
   "execution_count": null,
   "id": "82828b4f",
   "metadata": {},
   "outputs": [],
   "source": [
    "for i in range(hotel_corr.shape[0]):\n",
    "    hotel_info.hotel_name = hotel_info.hotel_name.str.replace(hotel_corr.hoteltrip[i],hotel_corr.hotelbook[i], regex=False)"
   ]
  },
  {
   "cell_type": "code",
   "execution_count": null,
   "id": "98ac1a26",
   "metadata": {},
   "outputs": [],
   "source": [
    "hotel_info.reset_index(inplace=True)\n",
    "hotel_info.rename(columns={'index' : 'id_hotel'}, inplace = True)"
   ]
  },
  {
   "cell_type": "code",
   "execution_count": null,
   "id": "3878bc7a",
   "metadata": {},
   "outputs": [],
   "source": [
    "#final dataframe\n",
    "dim_hotel = hotel_info"
   ]
  },
  {
   "cell_type": "markdown",
   "id": "179a1e6b",
   "metadata": {},
   "source": [
    "# twitter"
   ]
  },
  {
   "cell_type": "code",
   "execution_count": null,
   "id": "3c7b7db8",
   "metadata": {},
   "outputs": [],
   "source": [
    "df_temp = df"
   ]
  },
  {
   "cell_type": "code",
   "execution_count": null,
   "id": "04c9af3d",
   "metadata": {},
   "outputs": [],
   "source": [
    "tweets = pd.read_csv(\"Tweets_Rev_Final.csv\", sep=\";\", header = 0)"
   ]
  },
  {
   "cell_type": "code",
   "execution_count": null,
   "id": "f03b9e41",
   "metadata": {},
   "outputs": [],
   "source": [
    "tweets.dropna(inplace=True)"
   ]
  },
  {
   "cell_type": "code",
   "execution_count": null,
   "id": "73bb5c3b",
   "metadata": {},
   "outputs": [],
   "source": [
    "tweets.hotel_name = tweets.hotel_name.str.strip()"
   ]
  },
  {
   "cell_type": "code",
   "execution_count": null,
   "id": "cc41c7d6",
   "metadata": {},
   "outputs": [],
   "source": [
    "rev = df_temp.reviewer_name.unique()\n",
    "t_rev = tweets.reviewer_username.unique()\n",
    "reviewers = np.concatenate([rev,t_rev])"
   ]
  },
  {
   "cell_type": "code",
   "execution_count": null,
   "id": "58b16d2a",
   "metadata": {},
   "outputs": [],
   "source": [
    "rev_name = pd.DataFrame(np.unique(reviewers), columns=['reviewer_name'])\n",
    "#for reviewer country\n",
    "rev_country = pd.DataFrame(df.reviewer_country.unique(), columns=['reviewer_country'])\n",
    "\n",
    "rev_name.reset_index(inplace=True)\n",
    "\n",
    "rev_name.rename(columns={\"index\": \"id_reviewer\"}, inplace=True)\n",
    "\n",
    "rev_country.reset_index(inplace=True)\n",
    "\n",
    "rev_country.rename(columns={\"index\": \"id_country\"}, inplace=True)"
   ]
  },
  {
   "cell_type": "code",
   "execution_count": null,
   "id": "525203d7",
   "metadata": {},
   "outputs": [],
   "source": [
    "tweets.rename(columns={\"reviewer_username\":\"reviewer_name\"}, inplace=True)\n",
    "tweets.rename(columns={\"reviewer_location\":\"reviewer_country\"}, inplace=True)"
   ]
  },
  {
   "cell_type": "markdown",
   "id": "d45cfcff",
   "metadata": {},
   "source": [
    "# merging ...."
   ]
  },
  {
   "cell_type": "code",
   "execution_count": null,
   "id": "df185fae",
   "metadata": {},
   "outputs": [],
   "source": [
    "df_temp = pd.merge(df_temp, rev_name, on='reviewer_name')"
   ]
  },
  {
   "cell_type": "code",
   "execution_count": null,
   "id": "34af422c",
   "metadata": {},
   "outputs": [],
   "source": [
    "tweets_temp = pd.merge(tweets, rev_name, on=\"reviewer_name\")"
   ]
  },
  {
   "cell_type": "code",
   "execution_count": null,
   "id": "e6c0f266",
   "metadata": {},
   "outputs": [],
   "source": [
    "tweets_temp"
   ]
  },
  {
   "cell_type": "code",
   "execution_count": null,
   "id": "502454b1",
   "metadata": {},
   "outputs": [],
   "source": [
    "tweets_temp = pd.merge(tweets_temp, rev_country, on=\"reviewer_country\")\n",
    "df_temp = pd.merge(df_temp, rev_country, on='reviewer_country')"
   ]
  },
  {
   "cell_type": "code",
   "execution_count": null,
   "id": "6563b947",
   "metadata": {},
   "outputs": [],
   "source": [
    "tweets_temp"
   ]
  },
  {
   "cell_type": "code",
   "execution_count": null,
   "id": "48a34173",
   "metadata": {},
   "outputs": [],
   "source": [
    "tweets_temp = pd.merge(tweets_temp, hotel_info, on=\"hotel_name\")\n",
    "df_temp = pd.merge(df_temp, hotel_info, on='hotel_name')"
   ]
  },
  {
   "cell_type": "code",
   "execution_count": null,
   "id": "e821c987",
   "metadata": {},
   "outputs": [],
   "source": [
    "tweets_temp"
   ]
  },
  {
   "cell_type": "code",
   "execution_count": null,
   "id": "11a32783",
   "metadata": {},
   "outputs": [],
   "source": [
    "tweets_temp = pd.merge(tweets_temp, date, right_on=\"stay_date\", left_on='date_of_review')\n",
    "df_temp = pd.merge(df_temp, date, on='stay_date')"
   ]
  },
  {
   "cell_type": "markdown",
   "id": "951b2abf",
   "metadata": {},
   "source": [
    "## dimension reviewer"
   ]
  },
  {
   "cell_type": "code",
   "execution_count": null,
   "id": "feda7eef",
   "metadata": {},
   "outputs": [],
   "source": [
    "reviewer_tw = tweets_temp[['id_reviewer', 'reviewer_name','id_country']]\n",
    "reviewer_tw.drop_duplicates(inplace = True)\n",
    "reviewer_rv = df_temp[['id_reviewer', 'reviewer_name','id_country']]\n",
    "reviewer_rv.drop_duplicates(inplace = True)\n",
    "dim_reviewer = reviewer_rv.append(reviewer_tw, ignore_index=True)"
   ]
  },
  {
   "cell_type": "code",
   "execution_count": null,
   "id": "968a5e61",
   "metadata": {},
   "outputs": [],
   "source": [
    "#final dataframe\n",
    "dim_country = rev_country"
   ]
  },
  {
   "cell_type": "markdown",
   "id": "2a9732a8",
   "metadata": {},
   "source": [
    "# fact tables"
   ]
  },
  {
   "cell_type": "code",
   "execution_count": null,
   "id": "54c44a53",
   "metadata": {},
   "outputs": [],
   "source": [
    "tweets_temp"
   ]
  },
  {
   "cell_type": "code",
   "execution_count": null,
   "id": "8bf9d027",
   "metadata": {},
   "outputs": [],
   "source": [
    "df_temp.rename(columns={'type_rev' : 'rev_class'}, inplace=True)"
   ]
  },
  {
   "cell_type": "code",
   "execution_count": null,
   "id": "0ffc5cb9",
   "metadata": {},
   "outputs": [],
   "source": [
    "tweets_temp.rename(columns={'classification' : 'rev_class'}, inplace=True)"
   ]
  },
  {
   "cell_type": "markdown",
   "id": "8d475288",
   "metadata": {},
   "source": [
    "### fact_reviews"
   ]
  },
  {
   "cell_type": "code",
   "execution_count": null,
   "id": "945240ee",
   "metadata": {},
   "outputs": [],
   "source": [
    "fact_review = df_temp[['id_hotel', 'id_date', 'id_reviewer', 'rate', 'review','rev_class']]"
   ]
  },
  {
   "cell_type": "markdown",
   "id": "f7acc3b8",
   "metadata": {},
   "source": [
    "### fact_tweets"
   ]
  },
  {
   "cell_type": "code",
   "execution_count": null,
   "id": "836f9806",
   "metadata": {},
   "outputs": [],
   "source": [
    "fact_tweets = tweets_temp[['id_hotel', 'id_date', 'id_reviewer','likes','review','rev_class' ]]"
   ]
  },
  {
   "cell_type": "code",
   "execution_count": null,
   "id": "98dc929e",
   "metadata": {},
   "outputs": [],
   "source": [
    "fact_tweets"
   ]
  },
  {
   "cell_type": "markdown",
   "id": "2227c232",
   "metadata": {},
   "source": [
    "# Create output files"
   ]
  },
  {
   "cell_type": "code",
   "execution_count": 195,
   "id": "bb12ad32",
   "metadata": {},
   "outputs": [
    {
     "data": {
      "text/plain": [
       "array(['pos', 'neg'], dtype=object)"
      ]
     },
     "execution_count": 195,
     "metadata": {},
     "output_type": "execute_result"
    }
   ],
   "source": [
    "fact_review.rev_class.unique()"
   ]
  },
  {
   "cell_type": "code",
   "execution_count": 196,
   "id": "0ecde604",
   "metadata": {},
   "outputs": [
    {
     "name": "stderr",
     "output_type": "stream",
     "text": [
      "C:\\Users\\win00\\anaconda3\\lib\\site-packages\\pandas\\core\\generic.py:5516: SettingWithCopyWarning: \n",
      "A value is trying to be set on a copy of a slice from a DataFrame.\n",
      "Try using .loc[row_indexer,col_indexer] = value instead\n",
      "\n",
      "See the caveats in the documentation: https://pandas.pydata.org/pandas-docs/stable/user_guide/indexing.html#returning-a-view-versus-a-copy\n",
      "  self[name] = value\n"
     ]
    }
   ],
   "source": [
    "#avoid delimiter problems\n",
    "fact_review.review = fact_review.review.str.replace('\"','')\n",
    "fact_tweets.review = fact_tweets.review.str.replace('\"','')\n",
    "\n",
    "fact_review.review = fact_review.review.str.replace(\";\",\".\")\n",
    "fact_tweets.review = fact_tweets.review.str.replace(\";\",\".\")"
   ]
  },
  {
   "cell_type": "code",
   "execution_count": 197,
   "id": "ca229332",
   "metadata": {},
   "outputs": [],
   "source": [
    "dim_country.to_csv(\"output/dim_country.csv\", sep=\";\",index= False)\n",
    "dim_date.to_csv(\"output/dim_date.csv\", sep=\";\",index= False)\n",
    "dim_hotel.to_csv(\"output/dim_hotel.csv\", sep=\";\",index= False)\n",
    "dim_reviewer.to_csv(\"output/dim_reviewer.csv\", sep=\";\",index= False)\n",
    "fact_review.to_csv(\"output/fact_review.csv\", sep=\";\",index= False)\n",
    "fact_tweets.to_csv(\"output/fact_tweets.csv\", sep=\";\",index= False)"
   ]
  },
  {
   "cell_type": "code",
   "execution_count": null,
   "id": "4d5362ca",
   "metadata": {},
   "outputs": [],
   "source": []
  }
 ],
 "metadata": {
  "kernelspec": {
   "display_name": "Python 3 (ipykernel)",
   "language": "python",
   "name": "python3"
  },
  "language_info": {
   "codemirror_mode": {
    "name": "ipython",
    "version": 3
   },
   "file_extension": ".py",
   "mimetype": "text/x-python",
   "name": "python",
   "nbconvert_exporter": "python",
   "pygments_lexer": "ipython3",
   "version": "3.8.12"
  }
 },
 "nbformat": 4,
 "nbformat_minor": 5
}
