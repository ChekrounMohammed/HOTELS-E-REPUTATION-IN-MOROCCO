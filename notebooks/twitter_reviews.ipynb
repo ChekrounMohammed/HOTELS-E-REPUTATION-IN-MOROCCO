{
 "cells": [
  {
   "cell_type": "code",
   "execution_count": 115,
   "id": "e16aa859",
   "metadata": {},
   "outputs": [],
   "source": [
    "import tweepy\n",
    "import time\n",
    "import pandas as pd\n",
    "import csv\n",
    "from time import sleep\n",
    "from random import randint\n",
    "import re\n",
    "from textblob import TextBlob\n",
    "import requests\n",
    "import aaransia\n",
    "from aaransia import transliterate\n",
    "from aaransia import SourceLanguageError"
   ]
  },
  {
   "cell_type": "markdown",
   "id": "6ffa910f",
   "metadata": {},
   "source": [
    "# twitter API keys "
   ]
  },
  {
   "cell_type": "code",
   "execution_count": 116,
   "id": "a245192a",
   "metadata": {},
   "outputs": [],
   "source": [
    "bearer_token='AAAAAAAAAAAAAAAAAAAAAFXcXAEAAAAA5JELm2L777nOugEnH2U5JbQc6Jg%3DDNrJ9vvE1h0umV4FQGEEeG4meLmtLegAGVYBnAyzOQxxgQN48V'"
   ]
  },
  {
   "cell_type": "code",
   "execution_count": 117,
   "id": "73fd74e2",
   "metadata": {},
   "outputs": [],
   "source": [
    "consumer_key= 'YLJ6AbKwt3GfoOwd8Xol5Z3Ud'\n",
    "consumer_secret= 'f9tCdyDuziCbxt5QghNALL0Ozsyo70sW1WyxcB85Jm7rlwxBTx'\n",
    "access_token= '892046460375764994-LZsPf0qbebHCN7DvFO0JYyRUvzihZhG'\n",
    "access_token_secret= 'hG2haHczDZwzKjJlsxxnI472SVEFA75W8MHhs3XSeyiHQ'"
   ]
  },
  {
   "cell_type": "code",
   "execution_count": 118,
   "id": "bf511343",
   "metadata": {},
   "outputs": [],
   "source": [
    "client = tweepy.Client(bearer_token=bearer_token, consumer_key=consumer_key, consumer_secret=consumer_secret, access_token=access_token, access_token_secret=access_token_secret, wait_on_rate_limit=True)"
   ]
  },
  {
   "cell_type": "markdown",
   "id": "2173e733",
   "metadata": {},
   "source": [
    "# loading the name and the city  of each hotel"
   ]
  },
  {
   "cell_type": "code",
   "execution_count": 119,
   "id": "bb53058e",
   "metadata": {},
   "outputs": [],
   "source": [
    "#uploading hotel names \n",
    "df=pd.read_csv('hotelsMarrakech.csv',encoding='UTF-8')\n",
    "hotels=df['hotels']\n"
   ]
  },
  {
   "cell_type": "code",
   "execution_count": 223,
   "id": "733b2ad3",
   "metadata": {
    "scrolled": true
   },
   "outputs": [],
   "source": [
    "#uploading hotels and their cities form a file containing reviebws\n",
    "def hotelsAndCities(Data):\n",
    "    ls=[]\n",
    "    hotels=[]\n",
    "    for i,hotel in enumerate(Data['hotel_name']):\n",
    "        if hotel not in hotels:\n",
    "            row=[Data['hotel_name'][i],Data['ville'][i]]\n",
    "            hotels.append(Data['hotel_name'][i])\n",
    "            ls.append(row)\n",
    "    return ls\n",
    "#BookingReviewsNorthmorocco.csv contains reviews from booking\n",
    "df=pd.read_csv('BookingReviewsNorthmorocco.csv',encoding='utf-8')\n",
    "Data=df[['hotel_name','ville']]\n",
    "hotels_city=hotelsAndCities(Data)   "
   ]
  },
  {
   "cell_type": "code",
   "execution_count": null,
   "id": "3c170e30",
   "metadata": {},
   "outputs": [],
   "source": [
    "#saving the hotels and their cities in a csv file \n",
    "dfh=pd.DataFrame(hotels_city,columns=['hotel','city'])\n",
    "dfh.to_csv('hotelsNorthKingdom.csv',encoding='utf-8')"
   ]
  },
  {
   "cell_type": "code",
   "execution_count": 224,
   "id": "0a9f94f7",
   "metadata": {},
   "outputs": [
    {
     "name": "stdout",
     "output_type": "stream",
     "text": [
      "Chefchaouene\n"
     ]
    }
   ],
   "source": [
    "#testing \n",
    "for hotel,city in hotels_city:\n",
    "    print(city)\n",
    "    break"
   ]
  },
  {
   "cell_type": "code",
   "execution_count": 225,
   "id": "8fff50e5",
   "metadata": {},
   "outputs": [
    {
     "data": {
      "text/plain": [
       "82"
      ]
     },
     "execution_count": 225,
     "metadata": {},
     "output_type": "execute_result"
    }
   ],
   "source": [
    "file=open('tweet_northV2.csv','w',encoding='utf-8')\n",
    "writer=csv.writer(file)\n",
    "header = [\"hotel_name\",\"ville\", \"review\", \"date_of_review\",\"reviewer_username\",\"reviewer_location\",'likes']\n",
    "writer.writerow(header)"
   ]
  },
  {
   "cell_type": "markdown",
   "id": "40896d9d",
   "metadata": {},
   "source": [
    "# #Removing the words with repeated letters and cleaning functions"
   ]
  },
  {
   "cell_type": "code",
   "execution_count": 124,
   "id": "ac74dd77",
   "metadata": {},
   "outputs": [],
   "source": [
    "def remove_rep( r):\n",
    "        r = re.sub(r'(a){3,10}',r'\\1',r)\n",
    "        r = re.sub(r'(b){3,10}',r'\\1',r)\n",
    "        r = re.sub(r'(c){3,10}',r'\\1',r)\n",
    "        r = re.sub(r'(d){3,10}',r'\\1',r)\n",
    "        r = re.sub(r'(e){3,10}',r'\\1',r)\n",
    "        r = re.sub(r'(f){3,10}',r'\\1',r)\n",
    "        r = re.sub(r'(i){3,10}',r'\\1',r)\n",
    "        r = re.sub(r'(j){3,10}',r'\\1',r)\n",
    "        r = re.sub(r'(k){3,10}',r'\\1',r)\n",
    "        r = re.sub(r'(l){3,10}',r'\\1',r)\n",
    "        r = re.sub(r'(m){3,10}',r'\\1',r)\n",
    "        r = re.sub(r'(n){3,10}',r'\\1',r)\n",
    "        r = re.sub(r'(o){3,10}',r'\\1',r)\n",
    "        r = re.sub(r'(p){3,10}',r'\\1',r)\n",
    "        r = re.sub(r'(q){3,10}',r'\\1',r)\n",
    "        r = re.sub(r'(r){3,10}',r'\\1',r)\n",
    "        r = re.sub(r'(s){3,10}',r'\\1',r)\n",
    "        r = re.sub(r'(t){3,10}',r'\\1',r)\n",
    "        r = re.sub(r'(u){3,10}',r'\\1',r)\n",
    "        r = re.sub(r'(v){3,10}',r'\\1',r)\n",
    "        r = re.sub(r'(w){3,10}',r'\\1',r)\n",
    "        r = re.sub(r'(x){3,10}',r'\\1',r)\n",
    "        r = re.sub(r'(y){3,10}',r'\\1',r)\n",
    "        r = re.sub(r'(z){3,10}',r'\\1',r)\n",
    "#Maj\n",
    "        r = re.sub(r'(A){3,10}',r'\\1',r)\n",
    "        r = re.sub(r'(B){3,10}',r'\\1',r)\n",
    "        r = re.sub(r'(C){3,10}',r'\\1',r)\n",
    "        r = re.sub(r'(D){3,10}',r'\\1',r)\n",
    "        r = re.sub(r'(E){3,10}',r'\\1',r)\n",
    "        r = re.sub(r'(F){3,10}',r'\\1',r)\n",
    "        r = re.sub(r'(I){3,10}',r'\\1',r)\n",
    "        r = re.sub(r'(J){3,10}',r'\\1',r)\n",
    "        r = re.sub(r'(K){3,10}',r'\\1',r)\n",
    "        r = re.sub(r'(L){3,10}',r'\\1',r)\n",
    "        r = re.sub(r'(M){3,10}',r'\\1',r)\n",
    "        r = re.sub(r'(N){3,10}',r'\\1',r)\n",
    "        r = re.sub(r'(O){3,10}',r'\\1',r)\n",
    "        r = re.sub(r'(P){3,10}',r'\\1',r)\n",
    "        r = re.sub(r'(Q){3,10}',r'\\1',r)\n",
    "        r = re.sub(r'(R){3,10}',r'\\1',r)\n",
    "        r = re.sub(r'(S){3,10}',r'\\1',r)\n",
    "        r = re.sub(r'(T){3,10}',r'\\1',r)\n",
    "        r = re.sub(r'(U){3,10}',r'\\1',r)\n",
    "        r = re.sub(r'(V){3,10}',r'\\1',r)\n",
    "        r = re.sub(r'(V){3,10}',r'\\1',r)\n",
    "        r = re.sub(r'(X){3,10}',r'\\1',r)\n",
    "        r = re.sub(r'(Y){3,10}',r'\\1',r)\n",
    "        r = re.sub(r'(Z){3,10}',r'\\1',r) \n",
    "        return r"
   ]
  },
  {
   "cell_type": "code",
   "execution_count": 226,
   "id": "5f841f32",
   "metadata": {},
   "outputs": [],
   "source": [
    "def clean_tweet( tweet):\n",
    "    word = \"\"\n",
    "    tweet_temp = \"\"\n",
    "    tweet = remove_rep(tweet)\n",
    "    tweet_B = TextBlob(tweet)\n",
    "\n",
    "    if (tweet_B.detect_language() != 'en'):\n",
    "        if(tweet_B.detect_language() == 'ar'):\n",
    "            for lettre in tweet:\n",
    "                if (lettre != \" \"):\n",
    "                    try:\n",
    "                        word = word + transliterate(lettre, source='ar', target='ma')\n",
    "                    except:\n",
    "                        word = word + lettre\n",
    "                else:\n",
    "                    word = word + \" \"\n",
    "                    tweet_temp = tweet_temp + word\n",
    "                    word = \"\"\n",
    "            tweet = tweet_temp\n",
    "        else:\n",
    "            try:\n",
    "         \n",
    "             tweet = tweet_B.translate(to = 'en')\n",
    "             tweet = str(tweet)\n",
    "            except:\n",
    "                tweet = \" \"\n",
    "\n",
    "\n",
    "    return ' '.join(re.sub(\"(@[A-Za-z0-9_]+)|(\\w+:\\/\\/\\S+)|(#[A-Za-z0-9_]+|[0-9]+|(^RT.+:.+)|http\\S+)\", \" \", tweet).split())"
   ]
  },
  {
   "cell_type": "markdown",
   "id": "57de78c0",
   "metadata": {},
   "source": [
    "# check internet and scrapp the data from twitter"
   ]
  },
  {
   "cell_type": "code",
   "execution_count": 227,
   "id": "bd694c1f",
   "metadata": {},
   "outputs": [],
   "source": [
    "#saves every review with other informations in a csv file \n",
    "def writeReview(hotel,ville,rev,date,name,location,likes):\n",
    "    \"\"\"rev =(' '.join(rev.splitlines()))\n",
    "    rev=re.sub(r'http\\S+',\"\",rev)\n",
    "    rev=rev.replace('.',' ')\n",
    "    tx=TextBlob(rev)\n",
    "    sleep(randint(1,2))\n",
    "    if(tx.detect_language() != 'en'):\n",
    "        tr = tx.translate(to = 'en')\n",
    "        rev=str(tr)\"\"\"\n",
    "    rev=rev.replace('.',' ')\n",
    "    rev =(' '.join(rev.splitlines()))\n",
    "    #rev =(' '.join(re.sub(\"(@[A-Za-z0-9_]+)|(\\w+:\\/\\/\\S+)|(#[A-Za-z0-9_]+| [0-9]+ |  )\", \" \", rev).split()))\n",
    "    rev=clean_tweet(rev)\n",
    "    if(rev not in ['',' ']):\n",
    "        row = [ hotel,ville,rev,date,name,location,likes]\n",
    "        writer.writerow(row)\n"
   ]
  },
  {
   "cell_type": "code",
   "execution_count": 228,
   "id": "8aa39c5a",
   "metadata": {},
   "outputs": [
    {
     "name": "stdout",
     "output_type": "stream",
     "text": [
      "True\n"
     ]
    }
   ],
   "source": [
    "def check_internet():\n",
    "    try:\n",
    "        requests.get('https://google.com').ok\n",
    "        return True\n",
    "    except :\n",
    "        return False\n",
    "print(check_internet())"
   ]
  },
  {
   "cell_type": "code",
   "execution_count": 196,
   "id": "bfe5bfec",
   "metadata": {},
   "outputs": [],
   "source": [
    "#result = []\n",
    "user_dict = {}\n",
    "#ville='Marrakech'\n",
    "i=0\n",
    "for hotel,city in hotels_city:\n",
    "    Hotel=hotel\n",
    "    hotel=re.sub(r\"[^a-zA-Z0-9ô'âéèàö]\",\" \",hotel)\n",
    "    #hotel=re.sub('All Inc...|All Inc|All inclusive|All In|All Inclusive|Tout Compris',\"\",hotel)\n",
    "    for response in tweepy.Paginator(client.search_all_tweets, \n",
    "                                     query = hotel+' hotel -is:retweet',\n",
    "                                     user_fields = ['username', 'public_metrics', 'description', 'location'],\n",
    "                                     tweet_fields = ['created_at', 'geo', 'public_metrics', 'text'],\n",
    "                                     expansions = 'author_id',\n",
    "                                     start_time = '2010-01-20T00:00:00Z',\n",
    "                                     end_time = '2021-01-21T00:00:00Z',\n",
    "                                     max_results=500):\n",
    "        try:\n",
    "            for user in response.includes['users']:\n",
    "                user_dict[user.id] = {'username': user.username, \n",
    "                                  'followers': user.public_metrics['followers_count'],\n",
    "                                  'tweets': user.public_metrics['tweet_count'],\n",
    "                                  'description': user.description,\n",
    "                                  'location': user.location\n",
    "                                 }\n",
    "            for tweet in response.data:\n",
    "                # For each tweet, find the author's information\n",
    "                author_info = user_dict[tweet.author_id]\n",
    "                # Put all of the information we want to keep in a single dictionary for each tweet\n",
    "                try:\n",
    "                    writeReview(Hotel,city,tweet.text,tweet.created_at,author_info['username'],author_info['location'],tweet.public_metrics['like_count'])\n",
    "                    sleep(1)\n",
    "                except exception as e:\n",
    "                    i=i+1\n",
    "                    print(i,e)\n",
    "                    continue\n",
    "        except Exception as e:\n",
    "            print(e)\n",
    "            print(hotel)\n",
    "            while(not check_internet()):\n",
    "                print(e)\n",
    "                sleep(20)\n",
    "            continue\n",
    "file.close()"
   ]
  }
 ],
 "metadata": {
  "kernelspec": {
   "display_name": "Python 3 (ipykernel)",
   "language": "python",
   "name": "python3"
  },
  "language_info": {
   "codemirror_mode": {
    "name": "ipython",
    "version": 3
   },
   "file_extension": ".py",
   "mimetype": "text/x-python",
   "name": "python",
   "nbconvert_exporter": "python",
   "pygments_lexer": "ipython3",
   "version": "3.10.0"
  }
 },
 "nbformat": 4,
 "nbformat_minor": 5
}
